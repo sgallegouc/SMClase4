{
 "cells": [
  {
   "cell_type": "code",
   "execution_count": null,
   "id": "a8dd3813-8c35-44c2-87a9-eec5f971729d",
   "metadata": {},
   "outputs": [],
   "source": []
  }
 ],
 "metadata": {
  "kernelspec": {
   "display_name": "audiopy-conda",
   "language": "python",
   "name": "audiopy-conda"
  },
  "language_info": {
   "codemirror_mode": {
    "name": "ipython",
    "version": 3
   },
   "file_extension": ".py",
   "mimetype": "text/x-python",
   "name": "python",
   "nbconvert_exporter": "python",
   "pygments_lexer": "ipython3",
   "version": "3.11.0"
  }
 },
 "nbformat": 4,
 "nbformat_minor": 5
}
